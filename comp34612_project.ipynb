{
  "nbformat": 4,
  "nbformat_minor": 0,
  "metadata": {
    "colab": {
      "provenance": [],
      "toc_visible": true,
      "include_colab_link": true
    },
    "kernelspec": {
      "name": "python3",
      "display_name": "Python 3"
    },
    "language_info": {
      "name": "python"
    },
    "widgets": {
      "application/vnd.jupyter.widget-state+json": {
        "ef0e0e0593384a1a8a4aa2ca4e289d9f": {
          "model_module": "@jupyter-widgets/controls",
          "model_name": "VBoxModel",
          "model_module_version": "1.5.0",
          "state": {
            "_dom_classes": [],
            "_model_module": "@jupyter-widgets/controls",
            "_model_module_version": "1.5.0",
            "_model_name": "VBoxModel",
            "_view_count": null,
            "_view_module": "@jupyter-widgets/controls",
            "_view_module_version": "1.5.0",
            "_view_name": "VBoxView",
            "box_style": "",
            "children": [
              "IPY_MODEL_c204de7a7677410c9f3391f340115e7f",
              "IPY_MODEL_68325cef0c1d42deaa3b9828d5e923a2",
              "IPY_MODEL_791a898b46f7485480f3307b8c957ba1",
              "IPY_MODEL_44ee3c93d2f74e639471e3f34390e45a",
              "IPY_MODEL_296010b562e343e9ab09edaecfd6dfce",
              "IPY_MODEL_606e7f7e179f43e895aaca1c687cd698",
              "IPY_MODEL_c6b64a3934b84c90aac09d049a3e83b7"
            ],
            "layout": "IPY_MODEL_c82a7503e2ae4aacb8052a013e743cff"
          }
        },
        "c204de7a7677410c9f3391f340115e7f": {
          "model_module": "@jupyter-widgets/controls",
          "model_name": "DropdownModel",
          "model_module_version": "1.5.0",
          "state": {
            "_dom_classes": [],
            "_model_module": "@jupyter-widgets/controls",
            "_model_module_version": "1.5.0",
            "_model_name": "DropdownModel",
            "_options_labels": [
              "SimpleLeader"
            ],
            "_view_count": null,
            "_view_module": "@jupyter-widgets/controls",
            "_view_module_version": "1.5.0",
            "_view_name": "DropdownView",
            "description": "Leader:  ",
            "description_tooltip": null,
            "disabled": false,
            "index": 0,
            "layout": "IPY_MODEL_eafd75259332439c974c4f2f53cef6a2",
            "style": "IPY_MODEL_d9eaa961e121498eb7e3508608f4d615"
          }
        },
        "68325cef0c1d42deaa3b9828d5e923a2": {
          "model_module": "@jupyter-widgets/controls",
          "model_name": "DropdownModel",
          "model_module_version": "1.5.0",
          "state": {
            "_dom_classes": [],
            "_model_module": "@jupyter-widgets/controls",
            "_model_module_version": "1.5.0",
            "_model_name": "DropdownModel",
            "_options_labels": [
              "MK1",
              "MK2",
              "MK3"
            ],
            "_view_count": null,
            "_view_module": "@jupyter-widgets/controls",
            "_view_module_version": "1.5.0",
            "_view_name": "DropdownView",
            "description": "Follower:",
            "description_tooltip": null,
            "disabled": false,
            "index": 1,
            "layout": "IPY_MODEL_6c37cfb3b54c48a6a66c19b39a40c627",
            "style": "IPY_MODEL_df3a4379c49545ab96566de3113b343b"
          }
        },
        "791a898b46f7485480f3307b8c957ba1": {
          "model_module": "@jupyter-widgets/controls",
          "model_name": "IntSliderModel",
          "model_module_version": "1.5.0",
          "state": {
            "_dom_classes": [],
            "_model_module": "@jupyter-widgets/controls",
            "_model_module_version": "1.5.0",
            "_model_name": "IntSliderModel",
            "_view_count": null,
            "_view_module": "@jupyter-widgets/controls",
            "_view_module_version": "1.5.0",
            "_view_name": "IntSliderView",
            "continuous_update": true,
            "description": "Start Date:",
            "description_tooltip": null,
            "disabled": false,
            "layout": "IPY_MODEL_32f96d1d672b4c908d2a08004eb0f745",
            "max": 130,
            "min": 101,
            "orientation": "horizontal",
            "readout": true,
            "readout_format": "d",
            "step": 1,
            "style": "IPY_MODEL_9e0facf65a1b461e83b9dc587dc9650a",
            "value": 101
          }
        },
        "44ee3c93d2f74e639471e3f34390e45a": {
          "model_module": "@jupyter-widgets/controls",
          "model_name": "IntSliderModel",
          "model_module_version": "1.5.0",
          "state": {
            "_dom_classes": [],
            "_model_module": "@jupyter-widgets/controls",
            "_model_module_version": "1.5.0",
            "_model_name": "IntSliderModel",
            "_view_count": null,
            "_view_module": "@jupyter-widgets/controls",
            "_view_module_version": "1.5.0",
            "_view_name": "IntSliderView",
            "continuous_update": true,
            "description": "End Date:  ",
            "description_tooltip": null,
            "disabled": false,
            "layout": "IPY_MODEL_1e20c4ec5856467faf5cf2faaea7b156",
            "max": 130,
            "min": 101,
            "orientation": "horizontal",
            "readout": true,
            "readout_format": "d",
            "step": 1,
            "style": "IPY_MODEL_9239ae5e8e4941dfb38470161d7529f8",
            "value": 130
          }
        },
        "296010b562e343e9ab09edaecfd6dfce": {
          "model_module": "@jupyter-widgets/controls",
          "model_name": "HBoxModel",
          "model_module_version": "1.5.0",
          "state": {
            "_dom_classes": [],
            "_model_module": "@jupyter-widgets/controls",
            "_model_module_version": "1.5.0",
            "_model_name": "HBoxModel",
            "_view_count": null,
            "_view_module": "@jupyter-widgets/controls",
            "_view_module_version": "1.5.0",
            "_view_name": "HBoxView",
            "box_style": "",
            "children": [
              "IPY_MODEL_ca1b3904fafa4a09ad3b73ac6434735c",
              "IPY_MODEL_02355c99ba7641c6a16f7001e72e516e"
            ],
            "layout": "IPY_MODEL_763b4d679b83406a886eff99fa18fca7"
          }
        },
        "606e7f7e179f43e895aaca1c687cd698": {
          "model_module": "@jupyter-widgets/controls",
          "model_name": "HBoxModel",
          "model_module_version": "1.5.0",
          "state": {
            "_dom_classes": [],
            "_model_module": "@jupyter-widgets/controls",
            "_model_module_version": "1.5.0",
            "_model_name": "HBoxModel",
            "_view_count": null,
            "_view_module": "@jupyter-widgets/controls",
            "_view_module_version": "1.5.0",
            "_view_name": "HBoxView",
            "box_style": "",
            "children": [
              "IPY_MODEL_4ddd128d721f40e8ae43d2eb710c7263",
              "IPY_MODEL_d66c7a7dd4914713b87a43271afa7163"
            ],
            "layout": "IPY_MODEL_e538052d0a9e402e937b513d91c5c03d"
          }
        },
        "c6b64a3934b84c90aac09d049a3e83b7": {
          "model_module": "@jupyter-widgets/output",
          "model_name": "OutputModel",
          "model_module_version": "1.0.0",
          "state": {
            "_dom_classes": [],
            "_model_module": "@jupyter-widgets/output",
            "_model_module_version": "1.0.0",
            "_model_name": "OutputModel",
            "_view_count": null,
            "_view_module": "@jupyter-widgets/output",
            "_view_module_version": "1.0.0",
            "_view_name": "OutputView",
            "layout": "IPY_MODEL_560f84cc7a574ec181821d1e621b2b4d",
            "msg_id": "",
            "outputs": [
              {
                "output_type": "display_data",
                "data": {
                  "text/plain": "HBox(children=(Output(), Output()), layout=Layout(justify_content='initial'))",
                  "application/vnd.jupyter.widget-view+json": {
                    "version_major": 2,
                    "version_minor": 0,
                    "model_id": "ef5cfe5c46d34649b6495b3e715c90f5"
                  }
                },
                "metadata": {}
              }
            ]
          }
        },
        "c82a7503e2ae4aacb8052a013e743cff": {
          "model_module": "@jupyter-widgets/base",
          "model_name": "LayoutModel",
          "model_module_version": "1.2.0",
          "state": {
            "_model_module": "@jupyter-widgets/base",
            "_model_module_version": "1.2.0",
            "_model_name": "LayoutModel",
            "_view_count": null,
            "_view_module": "@jupyter-widgets/base",
            "_view_module_version": "1.2.0",
            "_view_name": "LayoutView",
            "align_content": null,
            "align_items": null,
            "align_self": null,
            "border": null,
            "bottom": null,
            "display": null,
            "flex": null,
            "flex_flow": null,
            "grid_area": null,
            "grid_auto_columns": null,
            "grid_auto_flow": null,
            "grid_auto_rows": null,
            "grid_column": null,
            "grid_gap": null,
            "grid_row": null,
            "grid_template_areas": null,
            "grid_template_columns": null,
            "grid_template_rows": null,
            "height": null,
            "justify_content": null,
            "justify_items": null,
            "left": null,
            "margin": null,
            "max_height": null,
            "max_width": null,
            "min_height": null,
            "min_width": null,
            "object_fit": null,
            "object_position": null,
            "order": null,
            "overflow": null,
            "overflow_x": null,
            "overflow_y": null,
            "padding": null,
            "right": null,
            "top": null,
            "visibility": null,
            "width": null
          }
        },
        "eafd75259332439c974c4f2f53cef6a2": {
          "model_module": "@jupyter-widgets/base",
          "model_name": "LayoutModel",
          "model_module_version": "1.2.0",
          "state": {
            "_model_module": "@jupyter-widgets/base",
            "_model_module_version": "1.2.0",
            "_model_name": "LayoutModel",
            "_view_count": null,
            "_view_module": "@jupyter-widgets/base",
            "_view_module_version": "1.2.0",
            "_view_name": "LayoutView",
            "align_content": null,
            "align_items": null,
            "align_self": null,
            "border": null,
            "bottom": null,
            "display": null,
            "flex": null,
            "flex_flow": null,
            "grid_area": null,
            "grid_auto_columns": null,
            "grid_auto_flow": null,
            "grid_auto_rows": null,
            "grid_column": null,
            "grid_gap": null,
            "grid_row": null,
            "grid_template_areas": null,
            "grid_template_columns": null,
            "grid_template_rows": null,
            "height": null,
            "justify_content": null,
            "justify_items": null,
            "left": null,
            "margin": null,
            "max_height": null,
            "max_width": null,
            "min_height": null,
            "min_width": null,
            "object_fit": null,
            "object_position": null,
            "order": null,
            "overflow": null,
            "overflow_x": null,
            "overflow_y": null,
            "padding": null,
            "right": null,
            "top": null,
            "visibility": null,
            "width": "250px"
          }
        },
        "d9eaa961e121498eb7e3508608f4d615": {
          "model_module": "@jupyter-widgets/controls",
          "model_name": "DescriptionStyleModel",
          "model_module_version": "1.5.0",
          "state": {
            "_model_module": "@jupyter-widgets/controls",
            "_model_module_version": "1.5.0",
            "_model_name": "DescriptionStyleModel",
            "_view_count": null,
            "_view_module": "@jupyter-widgets/base",
            "_view_module_version": "1.2.0",
            "_view_name": "StyleView",
            "description_width": "initial"
          }
        },
        "6c37cfb3b54c48a6a66c19b39a40c627": {
          "model_module": "@jupyter-widgets/base",
          "model_name": "LayoutModel",
          "model_module_version": "1.2.0",
          "state": {
            "_model_module": "@jupyter-widgets/base",
            "_model_module_version": "1.2.0",
            "_model_name": "LayoutModel",
            "_view_count": null,
            "_view_module": "@jupyter-widgets/base",
            "_view_module_version": "1.2.0",
            "_view_name": "LayoutView",
            "align_content": null,
            "align_items": null,
            "align_self": null,
            "border": null,
            "bottom": null,
            "display": null,
            "flex": null,
            "flex_flow": null,
            "grid_area": null,
            "grid_auto_columns": null,
            "grid_auto_flow": null,
            "grid_auto_rows": null,
            "grid_column": null,
            "grid_gap": null,
            "grid_row": null,
            "grid_template_areas": null,
            "grid_template_columns": null,
            "grid_template_rows": null,
            "height": null,
            "justify_content": null,
            "justify_items": null,
            "left": null,
            "margin": null,
            "max_height": null,
            "max_width": null,
            "min_height": null,
            "min_width": null,
            "object_fit": null,
            "object_position": null,
            "order": null,
            "overflow": null,
            "overflow_x": null,
            "overflow_y": null,
            "padding": null,
            "right": null,
            "top": null,
            "visibility": null,
            "width": "250px"
          }
        },
        "df3a4379c49545ab96566de3113b343b": {
          "model_module": "@jupyter-widgets/controls",
          "model_name": "DescriptionStyleModel",
          "model_module_version": "1.5.0",
          "state": {
            "_model_module": "@jupyter-widgets/controls",
            "_model_module_version": "1.5.0",
            "_model_name": "DescriptionStyleModel",
            "_view_count": null,
            "_view_module": "@jupyter-widgets/base",
            "_view_module_version": "1.2.0",
            "_view_name": "StyleView",
            "description_width": "initial"
          }
        },
        "32f96d1d672b4c908d2a08004eb0f745": {
          "model_module": "@jupyter-widgets/base",
          "model_name": "LayoutModel",
          "model_module_version": "1.2.0",
          "state": {
            "_model_module": "@jupyter-widgets/base",
            "_model_module_version": "1.2.0",
            "_model_name": "LayoutModel",
            "_view_count": null,
            "_view_module": "@jupyter-widgets/base",
            "_view_module_version": "1.2.0",
            "_view_name": "LayoutView",
            "align_content": null,
            "align_items": null,
            "align_self": null,
            "border": null,
            "bottom": null,
            "display": null,
            "flex": null,
            "flex_flow": null,
            "grid_area": null,
            "grid_auto_columns": null,
            "grid_auto_flow": null,
            "grid_auto_rows": null,
            "grid_column": null,
            "grid_gap": null,
            "grid_row": null,
            "grid_template_areas": null,
            "grid_template_columns": null,
            "grid_template_rows": null,
            "height": null,
            "justify_content": null,
            "justify_items": null,
            "left": null,
            "margin": null,
            "max_height": null,
            "max_width": null,
            "min_height": null,
            "min_width": null,
            "object_fit": null,
            "object_position": null,
            "order": null,
            "overflow": null,
            "overflow_x": null,
            "overflow_y": null,
            "padding": null,
            "right": null,
            "top": null,
            "visibility": null,
            "width": "300px"
          }
        },
        "9e0facf65a1b461e83b9dc587dc9650a": {
          "model_module": "@jupyter-widgets/controls",
          "model_name": "SliderStyleModel",
          "model_module_version": "1.5.0",
          "state": {
            "_model_module": "@jupyter-widgets/controls",
            "_model_module_version": "1.5.0",
            "_model_name": "SliderStyleModel",
            "_view_count": null,
            "_view_module": "@jupyter-widgets/base",
            "_view_module_version": "1.2.0",
            "_view_name": "StyleView",
            "description_width": "initial",
            "handle_color": null
          }
        },
        "1e20c4ec5856467faf5cf2faaea7b156": {
          "model_module": "@jupyter-widgets/base",
          "model_name": "LayoutModel",
          "model_module_version": "1.2.0",
          "state": {
            "_model_module": "@jupyter-widgets/base",
            "_model_module_version": "1.2.0",
            "_model_name": "LayoutModel",
            "_view_count": null,
            "_view_module": "@jupyter-widgets/base",
            "_view_module_version": "1.2.0",
            "_view_name": "LayoutView",
            "align_content": null,
            "align_items": null,
            "align_self": null,
            "border": null,
            "bottom": null,
            "display": null,
            "flex": null,
            "flex_flow": null,
            "grid_area": null,
            "grid_auto_columns": null,
            "grid_auto_flow": null,
            "grid_auto_rows": null,
            "grid_column": null,
            "grid_gap": null,
            "grid_row": null,
            "grid_template_areas": null,
            "grid_template_columns": null,
            "grid_template_rows": null,
            "height": null,
            "justify_content": null,
            "justify_items": null,
            "left": null,
            "margin": null,
            "max_height": null,
            "max_width": null,
            "min_height": null,
            "min_width": null,
            "object_fit": null,
            "object_position": null,
            "order": null,
            "overflow": null,
            "overflow_x": null,
            "overflow_y": null,
            "padding": null,
            "right": null,
            "top": null,
            "visibility": null,
            "width": "300px"
          }
        },
        "9239ae5e8e4941dfb38470161d7529f8": {
          "model_module": "@jupyter-widgets/controls",
          "model_name": "SliderStyleModel",
          "model_module_version": "1.5.0",
          "state": {
            "_model_module": "@jupyter-widgets/controls",
            "_model_module_version": "1.5.0",
            "_model_name": "SliderStyleModel",
            "_view_count": null,
            "_view_module": "@jupyter-widgets/base",
            "_view_module_version": "1.2.0",
            "_view_name": "StyleView",
            "description_width": "initial",
            "handle_color": null
          }
        },
        "ca1b3904fafa4a09ad3b73ac6434735c": {
          "model_module": "@jupyter-widgets/controls",
          "model_name": "HTMLModel",
          "model_module_version": "1.5.0",
          "state": {
            "_dom_classes": [],
            "_model_module": "@jupyter-widgets/controls",
            "_model_module_version": "1.5.0",
            "_model_name": "HTMLModel",
            "_view_count": null,
            "_view_module": "@jupyter-widgets/controls",
            "_view_module_version": "1.5.0",
            "_view_name": "HTMLView",
            "description": "",
            "description_tooltip": null,
            "layout": "IPY_MODEL_2cceddc5fa2444329984fac087f567fb",
            "placeholder": "​",
            "style": "IPY_MODEL_8abd60d043ed4a0cadf418f711422f70",
            "value": "Status:<span style='color: green;'> Connected to SimpleLeader and MK1"
          }
        },
        "02355c99ba7641c6a16f7001e72e516e": {
          "model_module": "@jupyter-widgets/controls",
          "model_name": "ButtonModel",
          "model_module_version": "1.5.0",
          "state": {
            "_dom_classes": [],
            "_model_module": "@jupyter-widgets/controls",
            "_model_module_version": "1.5.0",
            "_model_name": "ButtonModel",
            "_view_count": null,
            "_view_module": "@jupyter-widgets/controls",
            "_view_module_version": "1.5.0",
            "_view_name": "ButtonView",
            "button_style": "",
            "description": "Connect",
            "disabled": false,
            "icon": "",
            "layout": "IPY_MODEL_f399672f94344b32ad61763088bc806c",
            "style": "IPY_MODEL_98b49855e901472698984b597057b19a",
            "tooltip": ""
          }
        },
        "763b4d679b83406a886eff99fa18fca7": {
          "model_module": "@jupyter-widgets/base",
          "model_name": "LayoutModel",
          "model_module_version": "1.2.0",
          "state": {
            "_model_module": "@jupyter-widgets/base",
            "_model_module_version": "1.2.0",
            "_model_name": "LayoutModel",
            "_view_count": null,
            "_view_module": "@jupyter-widgets/base",
            "_view_module_version": "1.2.0",
            "_view_name": "LayoutView",
            "align_content": null,
            "align_items": null,
            "align_self": null,
            "border": null,
            "bottom": null,
            "display": null,
            "flex": null,
            "flex_flow": null,
            "grid_area": null,
            "grid_auto_columns": null,
            "grid_auto_flow": null,
            "grid_auto_rows": null,
            "grid_column": null,
            "grid_gap": null,
            "grid_row": null,
            "grid_template_areas": null,
            "grid_template_columns": null,
            "grid_template_rows": null,
            "height": null,
            "justify_content": null,
            "justify_items": null,
            "left": null,
            "margin": null,
            "max_height": null,
            "max_width": null,
            "min_height": null,
            "min_width": null,
            "object_fit": null,
            "object_position": null,
            "order": null,
            "overflow": null,
            "overflow_x": null,
            "overflow_y": null,
            "padding": null,
            "right": null,
            "top": null,
            "visibility": null,
            "width": null
          }
        },
        "4ddd128d721f40e8ae43d2eb710c7263": {
          "model_module": "@jupyter-widgets/controls",
          "model_name": "ButtonModel",
          "model_module_version": "1.5.0",
          "state": {
            "_dom_classes": [],
            "_model_module": "@jupyter-widgets/controls",
            "_model_module_version": "1.5.0",
            "_model_name": "ButtonModel",
            "_view_count": null,
            "_view_module": "@jupyter-widgets/controls",
            "_view_module_version": "1.5.0",
            "_view_name": "ButtonView",
            "button_style": "",
            "description": "Start Simulation",
            "disabled": false,
            "icon": "",
            "layout": "IPY_MODEL_b0a6e58d6365444fb25c97f2bc66ab44",
            "style": "IPY_MODEL_d71b9ff7256340fe855c5ea2d5957d9d",
            "tooltip": ""
          }
        },
        "d66c7a7dd4914713b87a43271afa7163": {
          "model_module": "@jupyter-widgets/controls",
          "model_name": "ButtonModel",
          "model_module_version": "1.5.0",
          "state": {
            "_dom_classes": [],
            "_model_module": "@jupyter-widgets/controls",
            "_model_module_version": "1.5.0",
            "_model_name": "ButtonModel",
            "_view_count": null,
            "_view_module": "@jupyter-widgets/controls",
            "_view_module_version": "1.5.0",
            "_view_name": "ButtonView",
            "button_style": "",
            "description": "Export Data",
            "disabled": false,
            "icon": "",
            "layout": "IPY_MODEL_b5c7215353a74ee2a5b47f4cd13d28a0",
            "style": "IPY_MODEL_73e70dfbd21b425d8ae26e00b7d89359",
            "tooltip": ""
          }
        },
        "e538052d0a9e402e937b513d91c5c03d": {
          "model_module": "@jupyter-widgets/base",
          "model_name": "LayoutModel",
          "model_module_version": "1.2.0",
          "state": {
            "_model_module": "@jupyter-widgets/base",
            "_model_module_version": "1.2.0",
            "_model_name": "LayoutModel",
            "_view_count": null,
            "_view_module": "@jupyter-widgets/base",
            "_view_module_version": "1.2.0",
            "_view_name": "LayoutView",
            "align_content": null,
            "align_items": null,
            "align_self": null,
            "border": null,
            "bottom": null,
            "display": null,
            "flex": null,
            "flex_flow": null,
            "grid_area": null,
            "grid_auto_columns": null,
            "grid_auto_flow": null,
            "grid_auto_rows": null,
            "grid_column": null,
            "grid_gap": null,
            "grid_row": null,
            "grid_template_areas": null,
            "grid_template_columns": null,
            "grid_template_rows": null,
            "height": null,
            "justify_content": null,
            "justify_items": null,
            "left": null,
            "margin": null,
            "max_height": null,
            "max_width": null,
            "min_height": null,
            "min_width": null,
            "object_fit": null,
            "object_position": null,
            "order": null,
            "overflow": null,
            "overflow_x": null,
            "overflow_y": null,
            "padding": null,
            "right": null,
            "top": null,
            "visibility": null,
            "width": null
          }
        },
        "2cceddc5fa2444329984fac087f567fb": {
          "model_module": "@jupyter-widgets/base",
          "model_name": "LayoutModel",
          "model_module_version": "1.2.0",
          "state": {
            "_model_module": "@jupyter-widgets/base",
            "_model_module_version": "1.2.0",
            "_model_name": "LayoutModel",
            "_view_count": null,
            "_view_module": "@jupyter-widgets/base",
            "_view_module_version": "1.2.0",
            "_view_name": "LayoutView",
            "align_content": null,
            "align_items": null,
            "align_self": null,
            "border": null,
            "bottom": null,
            "display": null,
            "flex": null,
            "flex_flow": null,
            "grid_area": null,
            "grid_auto_columns": null,
            "grid_auto_flow": null,
            "grid_auto_rows": null,
            "grid_column": null,
            "grid_gap": null,
            "grid_row": null,
            "grid_template_areas": null,
            "grid_template_columns": null,
            "grid_template_rows": null,
            "height": null,
            "justify_content": null,
            "justify_items": null,
            "left": null,
            "margin": null,
            "max_height": null,
            "max_width": null,
            "min_height": null,
            "min_width": null,
            "object_fit": null,
            "object_position": null,
            "order": null,
            "overflow": null,
            "overflow_x": null,
            "overflow_y": null,
            "padding": null,
            "right": null,
            "top": null,
            "visibility": null,
            "width": "300px"
          }
        },
        "8abd60d043ed4a0cadf418f711422f70": {
          "model_module": "@jupyter-widgets/controls",
          "model_name": "DescriptionStyleModel",
          "model_module_version": "1.5.0",
          "state": {
            "_model_module": "@jupyter-widgets/controls",
            "_model_module_version": "1.5.0",
            "_model_name": "DescriptionStyleModel",
            "_view_count": null,
            "_view_module": "@jupyter-widgets/base",
            "_view_module_version": "1.2.0",
            "_view_name": "StyleView",
            "description_width": ""
          }
        },
        "f399672f94344b32ad61763088bc806c": {
          "model_module": "@jupyter-widgets/base",
          "model_name": "LayoutModel",
          "model_module_version": "1.2.0",
          "state": {
            "_model_module": "@jupyter-widgets/base",
            "_model_module_version": "1.2.0",
            "_model_name": "LayoutModel",
            "_view_count": null,
            "_view_module": "@jupyter-widgets/base",
            "_view_module_version": "1.2.0",
            "_view_name": "LayoutView",
            "align_content": null,
            "align_items": null,
            "align_self": null,
            "border": null,
            "bottom": null,
            "display": null,
            "flex": null,
            "flex_flow": null,
            "grid_area": null,
            "grid_auto_columns": null,
            "grid_auto_flow": null,
            "grid_auto_rows": null,
            "grid_column": null,
            "grid_gap": null,
            "grid_row": null,
            "grid_template_areas": null,
            "grid_template_columns": null,
            "grid_template_rows": null,
            "height": null,
            "justify_content": null,
            "justify_items": null,
            "left": null,
            "margin": null,
            "max_height": null,
            "max_width": null,
            "min_height": null,
            "min_width": null,
            "object_fit": null,
            "object_position": null,
            "order": null,
            "overflow": null,
            "overflow_x": null,
            "overflow_y": null,
            "padding": null,
            "right": null,
            "top": null,
            "visibility": null,
            "width": "100px"
          }
        },
        "98b49855e901472698984b597057b19a": {
          "model_module": "@jupyter-widgets/controls",
          "model_name": "ButtonStyleModel",
          "model_module_version": "1.5.0",
          "state": {
            "_model_module": "@jupyter-widgets/controls",
            "_model_module_version": "1.5.0",
            "_model_name": "ButtonStyleModel",
            "_view_count": null,
            "_view_module": "@jupyter-widgets/base",
            "_view_module_version": "1.2.0",
            "_view_name": "StyleView",
            "button_color": null,
            "font_weight": ""
          }
        },
        "b0a6e58d6365444fb25c97f2bc66ab44": {
          "model_module": "@jupyter-widgets/base",
          "model_name": "LayoutModel",
          "model_module_version": "1.2.0",
          "state": {
            "_model_module": "@jupyter-widgets/base",
            "_model_module_version": "1.2.0",
            "_model_name": "LayoutModel",
            "_view_count": null,
            "_view_module": "@jupyter-widgets/base",
            "_view_module_version": "1.2.0",
            "_view_name": "LayoutView",
            "align_content": null,
            "align_items": null,
            "align_self": null,
            "border": null,
            "bottom": null,
            "display": null,
            "flex": null,
            "flex_flow": null,
            "grid_area": null,
            "grid_auto_columns": null,
            "grid_auto_flow": null,
            "grid_auto_rows": null,
            "grid_column": null,
            "grid_gap": null,
            "grid_row": null,
            "grid_template_areas": null,
            "grid_template_columns": null,
            "grid_template_rows": null,
            "height": null,
            "justify_content": null,
            "justify_items": null,
            "left": null,
            "margin": null,
            "max_height": null,
            "max_width": null,
            "min_height": null,
            "min_width": null,
            "object_fit": null,
            "object_position": null,
            "order": null,
            "overflow": null,
            "overflow_x": null,
            "overflow_y": null,
            "padding": null,
            "right": null,
            "top": null,
            "visibility": null,
            "width": "200px"
          }
        },
        "d71b9ff7256340fe855c5ea2d5957d9d": {
          "model_module": "@jupyter-widgets/controls",
          "model_name": "ButtonStyleModel",
          "model_module_version": "1.5.0",
          "state": {
            "_model_module": "@jupyter-widgets/controls",
            "_model_module_version": "1.5.0",
            "_model_name": "ButtonStyleModel",
            "_view_count": null,
            "_view_module": "@jupyter-widgets/base",
            "_view_module_version": "1.2.0",
            "_view_name": "StyleView",
            "button_color": null,
            "font_weight": ""
          }
        },
        "b5c7215353a74ee2a5b47f4cd13d28a0": {
          "model_module": "@jupyter-widgets/base",
          "model_name": "LayoutModel",
          "model_module_version": "1.2.0",
          "state": {
            "_model_module": "@jupyter-widgets/base",
            "_model_module_version": "1.2.0",
            "_model_name": "LayoutModel",
            "_view_count": null,
            "_view_module": "@jupyter-widgets/base",
            "_view_module_version": "1.2.0",
            "_view_name": "LayoutView",
            "align_content": null,
            "align_items": null,
            "align_self": null,
            "border": null,
            "bottom": null,
            "display": null,
            "flex": null,
            "flex_flow": null,
            "grid_area": null,
            "grid_auto_columns": null,
            "grid_auto_flow": null,
            "grid_auto_rows": null,
            "grid_column": null,
            "grid_gap": null,
            "grid_row": null,
            "grid_template_areas": null,
            "grid_template_columns": null,
            "grid_template_rows": null,
            "height": null,
            "justify_content": null,
            "justify_items": null,
            "left": null,
            "margin": null,
            "max_height": null,
            "max_width": null,
            "min_height": null,
            "min_width": null,
            "object_fit": null,
            "object_position": null,
            "order": null,
            "overflow": null,
            "overflow_x": null,
            "overflow_y": null,
            "padding": null,
            "right": null,
            "top": null,
            "visibility": null,
            "width": "200px"
          }
        },
        "73e70dfbd21b425d8ae26e00b7d89359": {
          "model_module": "@jupyter-widgets/controls",
          "model_name": "ButtonStyleModel",
          "model_module_version": "1.5.0",
          "state": {
            "_model_module": "@jupyter-widgets/controls",
            "_model_module_version": "1.5.0",
            "_model_name": "ButtonStyleModel",
            "_view_count": null,
            "_view_module": "@jupyter-widgets/base",
            "_view_module_version": "1.2.0",
            "_view_name": "StyleView",
            "button_color": null,
            "font_weight": ""
          }
        },
        "560f84cc7a574ec181821d1e621b2b4d": {
          "model_module": "@jupyter-widgets/base",
          "model_name": "LayoutModel",
          "model_module_version": "1.2.0",
          "state": {
            "_model_module": "@jupyter-widgets/base",
            "_model_module_version": "1.2.0",
            "_model_name": "LayoutModel",
            "_view_count": null,
            "_view_module": "@jupyter-widgets/base",
            "_view_module_version": "1.2.0",
            "_view_name": "LayoutView",
            "align_content": null,
            "align_items": null,
            "align_self": null,
            "border": null,
            "bottom": null,
            "display": null,
            "flex": null,
            "flex_flow": null,
            "grid_area": null,
            "grid_auto_columns": null,
            "grid_auto_flow": null,
            "grid_auto_rows": null,
            "grid_column": null,
            "grid_gap": null,
            "grid_row": null,
            "grid_template_areas": null,
            "grid_template_columns": null,
            "grid_template_rows": null,
            "height": null,
            "justify_content": null,
            "justify_items": null,
            "left": null,
            "margin": null,
            "max_height": null,
            "max_width": null,
            "min_height": null,
            "min_width": null,
            "object_fit": null,
            "object_position": null,
            "order": null,
            "overflow": null,
            "overflow_x": null,
            "overflow_y": null,
            "padding": null,
            "right": null,
            "top": null,
            "visibility": null,
            "width": null
          }
        },
        "ef5cfe5c46d34649b6495b3e715c90f5": {
          "model_module": "@jupyter-widgets/controls",
          "model_name": "HBoxModel",
          "model_module_version": "1.5.0",
          "state": {
            "_dom_classes": [],
            "_model_module": "@jupyter-widgets/controls",
            "_model_module_version": "1.5.0",
            "_model_name": "HBoxModel",
            "_view_count": null,
            "_view_module": "@jupyter-widgets/controls",
            "_view_module_version": "1.5.0",
            "_view_name": "HBoxView",
            "box_style": "",
            "children": [
              "IPY_MODEL_386b0b06c2054282bcc870337f848b04",
              "IPY_MODEL_ac0ae75ae8734ea0be5396632a3655f3"
            ],
            "layout": "IPY_MODEL_85540eec91a94c25a29a38e82207ff29"
          }
        },
        "386b0b06c2054282bcc870337f848b04": {
          "model_module": "@jupyter-widgets/output",
          "model_name": "OutputModel",
          "model_module_version": "1.0.0",
          "state": {
            "_dom_classes": [],
            "_model_module": "@jupyter-widgets/output",
            "_model_module_version": "1.0.0",
            "_model_name": "OutputModel",
            "_view_count": null,
            "_view_module": "@jupyter-widgets/output",
            "_view_module_version": "1.0.0",
            "_view_name": "OutputView",
            "layout": "IPY_MODEL_7e5f688d39b9404c9e061ddd440fed76",
            "msg_id": "",
            "outputs": [
              {
                "output_type": "display_data",
                "data": {
                  "text/plain": "      Leader Price  Follower Price  Cost\nDate                                    \n130       1.598779        1.767870   1.0\n129       1.588806        1.825704   1.0\n128       1.576391        1.746312   1.0\n127       1.565529        1.776938   1.0\n126       1.510237        1.771581   1.0\n125       1.510579        1.771630   1.0\n124       1.550099        1.739850   1.0\n123       1.505177        1.741199   1.0\n122       1.527599        1.802607   1.0\n121       1.537788        1.748073   1.0\n120       1.582173        1.766368   1.0\n119       1.587927        1.768391   1.0\n118       1.517056        1.747692   1.0\n117       1.548257        1.749583   1.0\n116       1.572402        1.744146   1.0\n115       1.591355        1.795306   1.0\n114       1.511020        1.759817   1.0\n113       1.550249        1.737715   1.0\n112       1.593723        1.743588   1.0\n111       1.515401        1.781245   1.0\n110       1.525002        1.741097   1.0\n109       1.517759        1.803879   1.0\n108       1.531615        1.747441   1.0\n107       1.504836        1.777797   1.0\n106       1.568169        1.794381   1.0\n105       1.568690        1.805902   1.0\n104       1.564326        1.772374   1.0\n103       1.574098        1.743420   1.0\n102       1.587018        1.738693   1.0\n101       1.507999        1.797516   1.0",
                  "text/html": "\n  <div id=\"df-f518a857-586a-4488-a7fe-d41238dff1ac\" class=\"colab-df-container\">\n    <div>\n<style scoped>\n    .dataframe tbody tr th:only-of-type {\n        vertical-align: middle;\n    }\n\n    .dataframe tbody tr th {\n        vertical-align: top;\n    }\n\n    .dataframe thead th {\n        text-align: right;\n    }\n</style>\n<table border=\"1\" class=\"dataframe\">\n  <thead>\n    <tr style=\"text-align: right;\">\n      <th></th>\n      <th>Leader Price</th>\n      <th>Follower Price</th>\n      <th>Cost</th>\n    </tr>\n    <tr>\n      <th>Date</th>\n      <th></th>\n      <th></th>\n      <th></th>\n    </tr>\n  </thead>\n  <tbody>\n    <tr>\n      <th>130</th>\n      <td>1.598779</td>\n      <td>1.767870</td>\n      <td>1.0</td>\n    </tr>\n    <tr>\n      <th>129</th>\n      <td>1.588806</td>\n      <td>1.825704</td>\n      <td>1.0</td>\n    </tr>\n    <tr>\n      <th>128</th>\n      <td>1.576391</td>\n      <td>1.746312</td>\n      <td>1.0</td>\n    </tr>\n    <tr>\n      <th>127</th>\n      <td>1.565529</td>\n      <td>1.776938</td>\n      <td>1.0</td>\n    </tr>\n    <tr>\n      <th>126</th>\n      <td>1.510237</td>\n      <td>1.771581</td>\n      <td>1.0</td>\n    </tr>\n    <tr>\n      <th>125</th>\n      <td>1.510579</td>\n      <td>1.771630</td>\n      <td>1.0</td>\n    </tr>\n    <tr>\n      <th>124</th>\n      <td>1.550099</td>\n      <td>1.739850</td>\n      <td>1.0</td>\n    </tr>\n    <tr>\n      <th>123</th>\n      <td>1.505177</td>\n      <td>1.741199</td>\n      <td>1.0</td>\n    </tr>\n    <tr>\n      <th>122</th>\n      <td>1.527599</td>\n      <td>1.802607</td>\n      <td>1.0</td>\n    </tr>\n    <tr>\n      <th>121</th>\n      <td>1.537788</td>\n      <td>1.748073</td>\n      <td>1.0</td>\n    </tr>\n    <tr>\n      <th>120</th>\n      <td>1.582173</td>\n      <td>1.766368</td>\n      <td>1.0</td>\n    </tr>\n    <tr>\n      <th>119</th>\n      <td>1.587927</td>\n      <td>1.768391</td>\n      <td>1.0</td>\n    </tr>\n    <tr>\n      <th>118</th>\n      <td>1.517056</td>\n      <td>1.747692</td>\n      <td>1.0</td>\n    </tr>\n    <tr>\n      <th>117</th>\n      <td>1.548257</td>\n      <td>1.749583</td>\n      <td>1.0</td>\n    </tr>\n    <tr>\n      <th>116</th>\n      <td>1.572402</td>\n      <td>1.744146</td>\n      <td>1.0</td>\n    </tr>\n    <tr>\n      <th>115</th>\n      <td>1.591355</td>\n      <td>1.795306</td>\n      <td>1.0</td>\n    </tr>\n    <tr>\n      <th>114</th>\n      <td>1.511020</td>\n      <td>1.759817</td>\n      <td>1.0</td>\n    </tr>\n    <tr>\n      <th>113</th>\n      <td>1.550249</td>\n      <td>1.737715</td>\n      <td>1.0</td>\n    </tr>\n    <tr>\n      <th>112</th>\n      <td>1.593723</td>\n      <td>1.743588</td>\n      <td>1.0</td>\n    </tr>\n    <tr>\n      <th>111</th>\n      <td>1.515401</td>\n      <td>1.781245</td>\n      <td>1.0</td>\n    </tr>\n    <tr>\n      <th>110</th>\n      <td>1.525002</td>\n      <td>1.741097</td>\n      <td>1.0</td>\n    </tr>\n    <tr>\n      <th>109</th>\n      <td>1.517759</td>\n      <td>1.803879</td>\n      <td>1.0</td>\n    </tr>\n    <tr>\n      <th>108</th>\n      <td>1.531615</td>\n      <td>1.747441</td>\n      <td>1.0</td>\n    </tr>\n    <tr>\n      <th>107</th>\n      <td>1.504836</td>\n      <td>1.777797</td>\n      <td>1.0</td>\n    </tr>\n    <tr>\n      <th>106</th>\n      <td>1.568169</td>\n      <td>1.794381</td>\n      <td>1.0</td>\n    </tr>\n    <tr>\n      <th>105</th>\n      <td>1.568690</td>\n      <td>1.805902</td>\n      <td>1.0</td>\n    </tr>\n    <tr>\n      <th>104</th>\n      <td>1.564326</td>\n      <td>1.772374</td>\n      <td>1.0</td>\n    </tr>\n    <tr>\n      <th>103</th>\n      <td>1.574098</td>\n      <td>1.743420</td>\n      <td>1.0</td>\n    </tr>\n    <tr>\n      <th>102</th>\n      <td>1.587018</td>\n      <td>1.738693</td>\n      <td>1.0</td>\n    </tr>\n    <tr>\n      <th>101</th>\n      <td>1.507999</td>\n      <td>1.797516</td>\n      <td>1.0</td>\n    </tr>\n  </tbody>\n</table>\n</div>\n    <div class=\"colab-df-buttons\">\n\n  <div class=\"colab-df-container\">\n    <button class=\"colab-df-convert\" onclick=\"convertToInteractive('df-f518a857-586a-4488-a7fe-d41238dff1ac')\"\n            title=\"Convert this dataframe to an interactive table.\"\n            style=\"display:none;\">\n\n  <svg xmlns=\"http://www.w3.org/2000/svg\" height=\"24px\" viewBox=\"0 -960 960 960\">\n    <path d=\"M120-120v-720h720v720H120Zm60-500h600v-160H180v160Zm220 220h160v-160H400v160Zm0 220h160v-160H400v160ZM180-400h160v-160H180v160Zm440 0h160v-160H620v160ZM180-180h160v-160H180v160Zm440 0h160v-160H620v160Z\"/>\n  </svg>\n    </button>\n\n  <style>\n    .colab-df-container {\n      display:flex;\n      gap: 12px;\n    }\n\n    .colab-df-convert {\n      background-color: #E8F0FE;\n      border: none;\n      border-radius: 50%;\n      cursor: pointer;\n      display: none;\n      fill: #1967D2;\n      height: 32px;\n      padding: 0 0 0 0;\n      width: 32px;\n    }\n\n    .colab-df-convert:hover {\n      background-color: #E2EBFA;\n      box-shadow: 0px 1px 2px rgba(60, 64, 67, 0.3), 0px 1px 3px 1px rgba(60, 64, 67, 0.15);\n      fill: #174EA6;\n    }\n\n    .colab-df-buttons div {\n      margin-bottom: 4px;\n    }\n\n    [theme=dark] .colab-df-convert {\n      background-color: #3B4455;\n      fill: #D2E3FC;\n    }\n\n    [theme=dark] .colab-df-convert:hover {\n      background-color: #434B5C;\n      box-shadow: 0px 1px 3px 1px rgba(0, 0, 0, 0.15);\n      filter: drop-shadow(0px 1px 2px rgba(0, 0, 0, 0.3));\n      fill: #FFFFFF;\n    }\n  </style>\n\n    <script>\n      const buttonEl =\n        document.querySelector('#df-f518a857-586a-4488-a7fe-d41238dff1ac button.colab-df-convert');\n      buttonEl.style.display =\n        google.colab.kernel.accessAllowed ? 'block' : 'none';\n\n      async function convertToInteractive(key) {\n        const element = document.querySelector('#df-f518a857-586a-4488-a7fe-d41238dff1ac');\n        const dataTable =\n          await google.colab.kernel.invokeFunction('convertToInteractive',\n                                                    [key], {});\n        if (!dataTable) return;\n\n        const docLinkHtml = 'Like what you see? Visit the ' +\n          '<a target=\"_blank\" href=https://colab.research.google.com/notebooks/data_table.ipynb>data table notebook</a>'\n          + ' to learn more about interactive tables.';\n        element.innerHTML = '';\n        dataTable['output_type'] = 'display_data';\n        await google.colab.output.renderOutput(dataTable, element);\n        const docLink = document.createElement('div');\n        docLink.innerHTML = docLinkHtml;\n        element.appendChild(docLink);\n      }\n    </script>\n  </div>\n\n\n<div id=\"df-2b23c13d-d42d-4c7f-959c-053b40707af7\">\n  <button class=\"colab-df-quickchart\" onclick=\"quickchart('df-2b23c13d-d42d-4c7f-959c-053b40707af7')\"\n            title=\"Suggest charts\"\n            style=\"display:none;\">\n\n<svg xmlns=\"http://www.w3.org/2000/svg\" height=\"24px\"viewBox=\"0 0 24 24\"\n     width=\"24px\">\n    <g>\n        <path d=\"M19 3H5c-1.1 0-2 .9-2 2v14c0 1.1.9 2 2 2h14c1.1 0 2-.9 2-2V5c0-1.1-.9-2-2-2zM9 17H7v-7h2v7zm4 0h-2V7h2v10zm4 0h-2v-4h2v4z\"/>\n    </g>\n</svg>\n  </button>\n\n<style>\n  .colab-df-quickchart {\n      --bg-color: #E8F0FE;\n      --fill-color: #1967D2;\n      --hover-bg-color: #E2EBFA;\n      --hover-fill-color: #174EA6;\n      --disabled-fill-color: #AAA;\n      --disabled-bg-color: #DDD;\n  }\n\n  [theme=dark] .colab-df-quickchart {\n      --bg-color: #3B4455;\n      --fill-color: #D2E3FC;\n      --hover-bg-color: #434B5C;\n      --hover-fill-color: #FFFFFF;\n      --disabled-bg-color: #3B4455;\n      --disabled-fill-color: #666;\n  }\n\n  .colab-df-quickchart {\n    background-color: var(--bg-color);\n    border: none;\n    border-radius: 50%;\n    cursor: pointer;\n    display: none;\n    fill: var(--fill-color);\n    height: 32px;\n    padding: 0;\n    width: 32px;\n  }\n\n  .colab-df-quickchart:hover {\n    background-color: var(--hover-bg-color);\n    box-shadow: 0 1px 2px rgba(60, 64, 67, 0.3), 0 1px 3px 1px rgba(60, 64, 67, 0.15);\n    fill: var(--button-hover-fill-color);\n  }\n\n  .colab-df-quickchart-complete:disabled,\n  .colab-df-quickchart-complete:disabled:hover {\n    background-color: var(--disabled-bg-color);\n    fill: var(--disabled-fill-color);\n    box-shadow: none;\n  }\n\n  .colab-df-spinner {\n    border: 2px solid var(--fill-color);\n    border-color: transparent;\n    border-bottom-color: var(--fill-color);\n    animation:\n      spin 1s steps(1) infinite;\n  }\n\n  @keyframes spin {\n    0% {\n      border-color: transparent;\n      border-bottom-color: var(--fill-color);\n      border-left-color: var(--fill-color);\n    }\n    20% {\n      border-color: transparent;\n      border-left-color: var(--fill-color);\n      border-top-color: var(--fill-color);\n    }\n    30% {\n      border-color: transparent;\n      border-left-color: var(--fill-color);\n      border-top-color: var(--fill-color);\n      border-right-color: var(--fill-color);\n    }\n    40% {\n      border-color: transparent;\n      border-right-color: var(--fill-color);\n      border-top-color: var(--fill-color);\n    }\n    60% {\n      border-color: transparent;\n      border-right-color: var(--fill-color);\n    }\n    80% {\n      border-color: transparent;\n      border-right-color: var(--fill-color);\n      border-bottom-color: var(--fill-color);\n    }\n    90% {\n      border-color: transparent;\n      border-bottom-color: var(--fill-color);\n    }\n  }\n</style>\n\n  <script>\n    async function quickchart(key) {\n      const quickchartButtonEl =\n        document.querySelector('#' + key + ' button');\n      quickchartButtonEl.disabled = true;  // To prevent multiple clicks.\n      quickchartButtonEl.classList.add('colab-df-spinner');\n      try {\n        const charts = await google.colab.kernel.invokeFunction(\n            'suggestCharts', [key], {});\n      } catch (error) {\n        console.error('Error during call to suggestCharts:', error);\n      }\n      quickchartButtonEl.classList.remove('colab-df-spinner');\n      quickchartButtonEl.classList.add('colab-df-quickchart-complete');\n    }\n    (() => {\n      let quickchartButtonEl =\n        document.querySelector('#df-2b23c13d-d42d-4c7f-959c-053b40707af7 button');\n      quickchartButtonEl.style.display =\n        google.colab.kernel.accessAllowed ? 'block' : 'none';\n    })();\n  </script>\n</div>\n\n    </div>\n  </div>\n",
                  "application/vnd.google.colaboratory.intrinsic+json": {
                    "type": "dataframe",
                    "summary": "{\n  \"name\": \"app = GUI(engine, Leader, group_num)\",\n  \"rows\": 30,\n  \"fields\": [\n    {\n      \"column\": \"Date\",\n      \"properties\": {\n        \"dtype\": \"number\",\n        \"std\": 8,\n        \"min\": 101,\n        \"max\": 130,\n        \"num_unique_values\": 30,\n        \"samples\": [\n          103,\n          115,\n          107\n        ],\n        \"semantic_type\": \"\",\n        \"description\": \"\"\n      }\n    },\n    {\n      \"column\": \"Leader Price\",\n      \"properties\": {\n        \"dtype\": \"number\",\n        \"std\": 0.03197997024731241,\n        \"min\": 1.504836213389309,\n        \"max\": 1.598779203004186,\n        \"num_unique_values\": 30,\n        \"samples\": [\n          1.5740975404751445,\n          1.591355259474833,\n          1.504836213389309\n        ],\n        \"semantic_type\": \"\",\n        \"description\": \"\"\n      }\n    },\n    {\n      \"column\": \"Follower Price\",\n      \"properties\": {\n        \"dtype\": \"number\",\n        \"std\": 0.024787151356714936,\n        \"min\": 1.737715478036075,\n        \"max\": 1.8257035159441803,\n        \"num_unique_values\": 30,\n        \"samples\": [\n          1.7434203601666014,\n          1.795305525093357,\n          1.77779727915072\n        ],\n        \"semantic_type\": \"\",\n        \"description\": \"\"\n      }\n    },\n    {\n      \"column\": \"Cost\",\n      \"properties\": {\n        \"dtype\": \"number\",\n        \"std\": 0.0,\n        \"min\": 1.0,\n        \"max\": 1.0,\n        \"num_unique_values\": 1,\n        \"samples\": [\n          1.0\n        ],\n        \"semantic_type\": \"\",\n        \"description\": \"\"\n      }\n    }\n  ]\n}"
                  }
                },
                "metadata": {}
              }
            ]
          }
        },
        "ac0ae75ae8734ea0be5396632a3655f3": {
          "model_module": "@jupyter-widgets/output",
          "model_name": "OutputModel",
          "model_module_version": "1.0.0",
          "state": {
            "_dom_classes": [],
            "_model_module": "@jupyter-widgets/output",
            "_model_module_version": "1.0.0",
            "_model_name": "OutputModel",
            "_view_count": null,
            "_view_module": "@jupyter-widgets/output",
            "_view_module_version": "1.0.0",
            "_view_name": "OutputView",
            "layout": "IPY_MODEL_f17f38fb1dc2423b95c8f6065f46d391",
            "msg_id": "",
            "outputs": [
              {
                "output_type": "display_data",
                "data": {
                  "text/plain": "<IPython.core.display.HTML object>",
                  "text/html": "<br><br><br><br><br><br><br><br><br><br><b style='font-size: 17px;'><u>Profit made: 16.137401049079372</u></b>"
                },
                "metadata": {}
              }
            ]
          }
        },
        "85540eec91a94c25a29a38e82207ff29": {
          "model_module": "@jupyter-widgets/base",
          "model_name": "LayoutModel",
          "model_module_version": "1.2.0",
          "state": {
            "_model_module": "@jupyter-widgets/base",
            "_model_module_version": "1.2.0",
            "_model_name": "LayoutModel",
            "_view_count": null,
            "_view_module": "@jupyter-widgets/base",
            "_view_module_version": "1.2.0",
            "_view_name": "LayoutView",
            "align_content": null,
            "align_items": null,
            "align_self": null,
            "border": null,
            "bottom": null,
            "display": null,
            "flex": null,
            "flex_flow": null,
            "grid_area": null,
            "grid_auto_columns": null,
            "grid_auto_flow": null,
            "grid_auto_rows": null,
            "grid_column": null,
            "grid_gap": null,
            "grid_row": null,
            "grid_template_areas": null,
            "grid_template_columns": null,
            "grid_template_rows": null,
            "height": null,
            "justify_content": "initial",
            "justify_items": null,
            "left": null,
            "margin": null,
            "max_height": null,
            "max_width": null,
            "min_height": null,
            "min_width": null,
            "object_fit": null,
            "object_position": null,
            "order": null,
            "overflow": null,
            "overflow_x": null,
            "overflow_y": null,
            "padding": null,
            "right": null,
            "top": null,
            "visibility": null,
            "width": null
          }
        },
        "7e5f688d39b9404c9e061ddd440fed76": {
          "model_module": "@jupyter-widgets/base",
          "model_name": "LayoutModel",
          "model_module_version": "1.2.0",
          "state": {
            "_model_module": "@jupyter-widgets/base",
            "_model_module_version": "1.2.0",
            "_model_name": "LayoutModel",
            "_view_count": null,
            "_view_module": "@jupyter-widgets/base",
            "_view_module_version": "1.2.0",
            "_view_name": "LayoutView",
            "align_content": null,
            "align_items": null,
            "align_self": null,
            "border": null,
            "bottom": null,
            "display": null,
            "flex": null,
            "flex_flow": null,
            "grid_area": null,
            "grid_auto_columns": null,
            "grid_auto_flow": null,
            "grid_auto_rows": null,
            "grid_column": null,
            "grid_gap": null,
            "grid_row": null,
            "grid_template_areas": null,
            "grid_template_columns": null,
            "grid_template_rows": null,
            "height": null,
            "justify_content": null,
            "justify_items": null,
            "left": null,
            "margin": null,
            "max_height": null,
            "max_width": null,
            "min_height": null,
            "min_width": null,
            "object_fit": null,
            "object_position": null,
            "order": null,
            "overflow": null,
            "overflow_x": null,
            "overflow_y": null,
            "padding": null,
            "right": null,
            "top": null,
            "visibility": null,
            "width": null
          }
        },
        "f17f38fb1dc2423b95c8f6065f46d391": {
          "model_module": "@jupyter-widgets/base",
          "model_name": "LayoutModel",
          "model_module_version": "1.2.0",
          "state": {
            "_model_module": "@jupyter-widgets/base",
            "_model_module_version": "1.2.0",
            "_model_name": "LayoutModel",
            "_view_count": null,
            "_view_module": "@jupyter-widgets/base",
            "_view_module_version": "1.2.0",
            "_view_name": "LayoutView",
            "align_content": null,
            "align_items": null,
            "align_self": null,
            "border": null,
            "bottom": null,
            "display": null,
            "flex": null,
            "flex_flow": null,
            "grid_area": null,
            "grid_auto_columns": null,
            "grid_auto_flow": null,
            "grid_auto_rows": null,
            "grid_column": null,
            "grid_gap": null,
            "grid_row": null,
            "grid_template_areas": null,
            "grid_template_columns": null,
            "grid_template_rows": null,
            "height": null,
            "justify_content": null,
            "justify_items": null,
            "left": null,
            "margin": null,
            "max_height": null,
            "max_width": null,
            "min_height": null,
            "min_width": null,
            "object_fit": null,
            "object_position": null,
            "order": null,
            "overflow": null,
            "overflow_x": null,
            "overflow_y": null,
            "padding": null,
            "right": null,
            "top": null,
            "visibility": null,
            "width": null
          }
        }
      }
    }
  },
  "cells": [
    {
      "cell_type": "markdown",
      "metadata": {
        "id": "view-in-github",
        "colab_type": "text"
      },
      "source": [
        "<a href=\"https://colab.research.google.com/github/lpankhurst/t2-cwk/blob/main/comp34612_project.ipynb\" target=\"_parent\"><img src=\"https://colab.research.google.com/assets/colab-badge.svg\" alt=\"Open In Colab\"/></a>"
      ]
    },
    {
      "cell_type": "markdown",
      "source": [
        "# Project Description"
      ],
      "metadata": {
        "id": "3XK1cooYe2X-"
      }
    },
    {
      "cell_type": "markdown",
      "source": [
        "##**Overview**\n",
        "Your task is to create a program that plays a repeated 2-person Stackelberg pricing games as the leader, under conditions of imperfect information.\n",
        "\n"
      ],
      "metadata": {
        "id": "91UIz8lSZPeE"
      }
    },
    {
      "cell_type": "markdown",
      "source": [
        "## **Specifications**"
      ],
      "metadata": {
        "id": "z8wKUBCGTuiM"
      }
    },
    {
      "cell_type": "markdown",
      "source": [
        "**Followers’ Specifications**\n",
        "\n",
        "*   There are three different followers, named as MK1, MK2, and MK3.\n",
        "*   The payoff function and strategy spaces of these followers are unknown. However, historical data from 100 days of previous games between the leader and each follower is available and provided."
      ],
      "metadata": {
        "id": "qCQi02j4fKN3"
      }
    },
    {
      "cell_type": "markdown",
      "source": [
        "**Leader’s Specifications**\n",
        "\n",
        "Assume that the leader’s strategy (i.e., price) is $u_L$ and the follower’s strategy (i.e., price) is $u_F$. The specifics regarding the leader’s strategy and profits are as follows:\n",
        "*   **Unit cost**: $c_L=£1.00$\n",
        "*   **Strategy space**:\n",
        "      1.   When playing with MK1 and MK2, the leader’s strategy space is $U_L = [1.00, +∞)$\n",
        "      2.   When playing with MK3, the leader’s strategy space is $U_L = [1.00, 2.00]$     \n",
        "* \t**Demand Model** (i.e., price-sale relationship): $S_L(u_L, u_F)=2 - u_L + 0.3u_F$    \n",
        "*   **Daily Profit**: $(u_L - c_L)S_L(u_L, u_F)$\n",
        "*   **Objective**: The leader’s objective of playing is to maximise the accumulated profit for the next 30 days.\n",
        "*   **Assumption**: For simplicity, it is assumed that the leader’s unit cost, strategy space, and the demand model remain unchanged throughout the entire period of 130 days."
      ],
      "metadata": {
        "id": "tPzKFX9wfMvK"
      }
    },
    {
      "cell_type": "markdown",
      "source": [
        "## **Game Rules and Playing Scenarios**"
      ],
      "metadata": {
        "id": "8FhASqXkT7Xo"
      }
    },
    {
      "cell_type": "markdown",
      "source": [
        "**Game Rules**\n",
        "\n",
        "On day $t$, the leader announces the price, $u_L (t)$, first. After learning the leader’s price, the follower will choose the responding price, $u_F (t)$. This process occurs over a period of $t=1,2,…,130$, where $t=1,2,…,100$ corresponds to the days for which historical data is available, and $t=101,102,…,130$ are the days during which the game will be played repeatedly.\n"
      ],
      "metadata": {
        "id": "e6_isrDZfWPn"
      }
    },
    {
      "cell_type": "markdown",
      "source": [
        "**Game Playing Scenarios**\n",
        "\n",
        "In this setup, your program, acting as the leader, will engage in three separate games against three different competitors, identified as followers MK1, MK2, and MK3.\n",
        "\n",
        "For each of the repeated game, the leader selects his learning method to learn the follower’s reaction function based on the provided set of historical data which spans from $t=1,2,…,100$. During the next 30 days ($t=101,102,…,130$), the leader announces a price, $u_L (t)$, to the game platform daily. After the leader's price is announced, the follower will respond with the price, $u_F (t)$. Upon receiving the follower's price, $u_F (t)$, from the game platform, the leader may use this new information to refine their knowledge/ update the learned reaction function and decide his price of the next day. In the other words, the leader (i.e., your program) should be able to take the follower’s price of the previous day from the game platform for updating, and then decide and send his price of the next day to the game platform.\n",
        "\n",
        "It should be emphasised that the follower’s strategy and payoff function is subject to the changing and time varying environment. That is, the parameters in the follower’s payoff function may not be the same every day.\n",
        "\n"
      ],
      "metadata": {
        "id": "vS4WZ0D1gC2W"
      }
    },
    {
      "cell_type": "markdown",
      "source": [
        "## **Implementation Options**\n",
        "1.\t**Single Leader Approach**: You may choose to design and implement a single leader algorithm that competes against all three followers, adapting its strategy based on the opponent being faced.\n",
        "2.\t**Multiple Leaders Approach**: Alternatively, you could design and implement three distinct leaders, each tailored to play against one of the followers. This approach allows for specialised strategies to be developed for each follower type.\n",
        "\n",
        "Whichever method you choose, it's crucial to document in this notebook section [Your Leader](#your-leader) which leader(s) is designed to play against each follower. This clarity will help in understanding the design choices and strategies implemented in your program.\n"
      ],
      "metadata": {
        "id": "B1RpBx7FDNQ1"
      }
    },
    {
      "cell_type": "markdown",
      "source": [
        "## **Project Timeline and Support**"
      ],
      "metadata": {
        "id": "eBQDvQldUHHm"
      }
    },
    {
      "cell_type": "markdown",
      "source": [
        "**Project Timeline**\n",
        "\n",
        "*\t**Week 7 (Starting 10 March)**: Start to work on your project and project planning.\n",
        "*\t**Week 11 (28 April – 2 May)**: Group presentations telling us what you have done.\n",
        "*\t**Deadline (2 May at 6:00pm)**: Deadline to submit codes and supporting document.\n"
      ],
      "metadata": {
        "id": "Om4Z5FdiF3nu"
      }
    },
    {
      "cell_type": "markdown",
      "source": [
        "**Support**\n",
        "\n",
        "*\t**Weekly Support Sessions**: Project support sessions are scheduled every Wednesday from 11:00 am to 12:00 noon between Weeks 7 and 10. These sessions will be held at <u>Booth Street East -TH A (G.10)</u>. You are encouraged to attend if you have questions, need clarification, or seek guidance on any aspect of the project. Attendance is optional and based on your needs for support.\n",
        "*\t**Email**: In addition to the weekly sessions, you are welcome to ask questions or seek support via email at any time. If you encounter any issues with installing or running the game platform, or if you have any other project-related inquiries, do not hesitate to contact the teaching assistants by email for support.\n"
      ],
      "metadata": {
        "id": "cC_yPWtjGGSp"
      }
    },
    {
      "cell_type": "markdown",
      "source": [
        "## **Assessment Criteria and Submission**"
      ],
      "metadata": {
        "id": "_x-VgyqaUdfr"
      }
    },
    {
      "cell_type": "markdown",
      "source": [
        "**Assessment Criteria**\n",
        "\n",
        "The project is a significant component of your final grade, accounting for 50% of the total mark, with the remaining 50% coming from the final examination. The project mark is distributed as follows:\n",
        "1.\t**Content of the Approach (50% of this project mark)**:\n",
        "  *\tPresentation (40%): Your grade in this category is based on the presentation you give in Week 11. This includes the originality of your idea, how well it integrates knowledge from the course, and any relevant external literature or research you have incorporated.\n",
        "  *\tWritten Materials (10%): This is based on the documentation you submit to your group journal on Blackboard. It evaluates the depth and clarity of your written explanation of the approach, including the rationale behind your strategies and methods.\n",
        "2.\t**Performance of the Approach (50% of this project mark)**:\n",
        "  *\tThis evaluates the effectiveness of your submitted program by looking at how well it performs in the game platform, that is, the accumulated profit generated by your submitted codes.\n",
        "3.\t**Group Mark Distribution**:\n",
        "  *\tThe overall group mark will be allocated to individual group members based on self-assessment and the demonstration of knowledge during the presentation.\n"
      ],
      "metadata": {
        "id": "0boMLY1WGgHp"
      }
    },
    {
      "cell_type": "markdown",
      "source": [
        "**Presentation**\n",
        "\n",
        "During the presentation week of Semester 2, every group is scheduled to present their project to the lecturers. It is important for each group member to actively participate in speaking and answering questions. This participation allows us to evaluate each member's contributions to the project. The assessment criteria focus solely on the content of your presentation, including the activities your group undertook and the lessons learned through the project process. Presentation skills are not part of the evaluation, so the emphasis should not be on creating a polished presentation but on effectively communicating your project's substance and outcomes.\n"
      ],
      "metadata": {
        "id": "85CORLj_GxRs"
      }
    },
    {
      "cell_type": "markdown",
      "source": [
        "**Performance of the Approach – Assessment Details**\n",
        "\n",
        "*\t**Step 1**. We will run your submitted codes against MK1, MK2, and MK3 and get the accumulated profit for the days $101 – 130$. These profits will be used as the performance of your submitted codes against MK1, MK2 and MK3\n",
        "*\t**Step 2**. We have also designed 3 further followers MK4, MK5, and MK6, which are created by slightly changes of the parameters of MK1, MK2, and MK3 respectively. That is, MK1 and MK4 are very similar, MK2 and MK5 are very similar, MK3 and MK6 are very similar. No data about MK$i$ ($i=4, 5, 6$) is provided. That is, they are invisible followers to you. But the setting of each MK$i$ ($i=4,5,6$) is the same as the provided followers, with 100 historical data and we will run your codes to get the accumulated profit for days $101 – 130$, which will be used as the performance of your submitted codes against MK4, MK5 and MK6.\n",
        "*\t**Step 3**. Based on the accumulated profits for MK1 and MK4 and compared with the best possible performances of MK1 and Mk4, your codes will get a percentage mark; Similarly you will get a percentage mark from MK2 and MK5, and then a percentage mark from MK3 and MK6. Finally your performance mark will be the average of these 3 percentage marks.\n",
        "\n",
        "**Remark**. The creation of MK4, MK5, and MK6 is a new assessment component for this year and so we are happy to hear any feedback, and change if necessary. The motivation and justification are as follows:\n",
        "*\tWe have run the codes submitted by the project groups of the last year to MK 4, MK5, and MK6, and noticed various issues, such as some submissions were hard coded for some parameters rather than via the learning; Some were invalid such as out of the price bounds; Some have the running errors etc.\n",
        "*\tIn real applications such as petrol station pricing, it is impossible to many many experiments and tests for each station, but we need a piece of software usable across a large numbers of petrol stations. The creation of MK4, MK5, and Mk6 is to simulate and test such a need from a real application point of view.\n",
        "*\tIn the last year, many groups produced very similar performance due to the limited test cases. The creation of MK4, MK5, and MK6 will provide more testing cases and help distinguishing the performance of different approaches.\n",
        "*\tAs MK4, MK5, and MK6 are invisible to you, this should not add your workload for the project.      \n"
      ],
      "metadata": {
        "id": "qIQkFXQvG4Zg"
      }
    },
    {
      "cell_type": "markdown",
      "source": [
        "**Submission**\n",
        "\n",
        "All submissions will be marked using the free version of Google Colaboratory.\n",
        "* Make sure your implementation works within this environment.\n",
        "* Avoid using any external dependencies that might not be available.\n",
        "\n",
        "Please download this notebook for submission by clicking “File” in the top left corner, then selecting “Download” followed by “Download .ipynb”. If your notebook requires any external files to run, ensure that you submit them along with your notebook. Submission will be done through Blackboard, and further details will be provided later.\n"
      ],
      "metadata": {
        "id": "zGyeiJeQIKBb"
      }
    },
    {
      "cell_type": "markdown",
      "source": [
        "## **Game Platform**"
      ],
      "metadata": {
        "id": "J-qdogBfSO4i"
      }
    },
    {
      "cell_type": "markdown",
      "source": [
        "The project will be run on Google Colaboratory, which is a hosted Jupyter Notebook service. This is done to avoid compatibility issues across different operating systems and to provide a collaborative environment where group members can work effectively using Colab’s sharing functionality. Follow the steps below to set up and use Google Colaboratory for your project.\n"
      ],
      "metadata": {
        "id": "YvDxER68UuGR"
      }
    },
    {
      "cell_type": "markdown",
      "source": [
        "**Using Google Colaboratory for the Project**\n",
        "* Running Code\n",
        "  * Click on a cell and press Shift + Enter, or\n",
        "  * Click the Play button on the left side of the cell\n",
        "* Adding Cell\n",
        "  * Hover over an existing cell and click “+ Code” or “+ Text” where needed\n",
        "* Stopping a Running C→ell:\n",
        "  * From the top menu, click “Runtime” → “Interrupt execution”.\n",
        "* Restarting Runtime\n",
        "  * Click “Runtime” → “Restart session”.\n",
        "  * This will clear all variables.\n",
        "* Disconnecting and Deleting the Runtime\n",
        "  * Click “Runtime” → “Disconnect and delete session”.\n",
        "  * This will reset the Colaboratory environment completely.\n",
        "*\tSharing with Group Members\n",
        "  *\tYou can share your notebook with your group members by clicking “Share” in the top-right corner.\n",
        "  *\tBe careful when saving, if multiple people edit the notebook at the same time, you may overwrite each other’s work.\n",
        "*\tFor More Functionalities, please visit [this link](https://colab.research.google.com)."
      ],
      "metadata": {
        "id": "zPVhHWzYTqPE"
      }
    },
    {
      "cell_type": "markdown",
      "source": [
        "**Understanding the Notebook Structure**\n",
        "\n",
        "The notebook is structured into several sections. You can click the first icon on the top left to open the “Table of contents” and navigate through different sections.\n",
        "1.\tProject Description: This section provides an overview of the project.\n",
        "2.\tInstall and Import: This section installs, imports necessary packages, and unzips comp34612.zip.\n",
        "3.\tBase Leader and Example Leader: This section contains the base leader class and an example leader implementation.\n",
        "4.\tYour Leader: In this section,\n",
        "\t*\tFirst write your group number as an integer.\n",
        "\t*\tThen implement your leader(s) based on the project requirements.\n",
        "\t*\tClearly document:\n",
        "      *\tWhich implementation approach you choose (single or multiple).\n",
        "      *\tWhich leader is designed to play against each follower.\n",
        "5.\tSimulation: This section provides an interface to simulate the pricing game between your selected leader and selected follower.\n"
      ],
      "metadata": {
        "id": "87IPuwM3S4j4"
      }
    },
    {
      "cell_type": "markdown",
      "source": [
        "# Install and Import"
      ],
      "metadata": {
        "id": "wrdXoxQfRc9t"
      }
    },
    {
      "cell_type": "code",
      "source": [
        "!pip install xlsxwriter"
      ],
      "metadata": {
        "colab": {
          "base_uri": "https://localhost:8080/"
        },
        "id": "pwEA-WPoXA5-",
        "outputId": "b5bc2d8d-4312-4ab8-89f5-0381d9574792"
      },
      "execution_count": 8,
      "outputs": [
        {
          "output_type": "stream",
          "name": "stdout",
          "text": [
            "Requirement already satisfied: xlsxwriter in /usr/local/lib/python3.11/dist-packages (3.2.2)\n"
          ]
        }
      ]
    },
    {
      "cell_type": "code",
      "source": [
        "import zipfile\n",
        "import os\n",
        "import random\n",
        "import gc\n",
        "from IPython.display import Javascript\n",
        "import pandas as pd\n",
        "pd.set_option('display.max_rows', None)\n",
        "pd.set_option('display.max_columns', None)"
      ],
      "metadata": {
        "id": "Hng6pqrylpxp"
      },
      "execution_count": 9,
      "outputs": []
    },
    {
      "cell_type": "code",
      "source": [
        "extract_path = \".\"\n",
        "zip_filename = \"comp34612.zip\"\n",
        "\n",
        "os.makedirs(extract_path, exist_ok=True)\n",
        "\n",
        "with zipfile.ZipFile(zip_filename, \"r\") as zip_ref:\n",
        "    zip_ref.extractall(extract_path)"
      ],
      "metadata": {
        "id": "p4IhoMtcqal3"
      },
      "execution_count": 10,
      "outputs": []
    },
    {
      "cell_type": "code",
      "source": [
        "from engine import Engine\n",
        "from gui import GUI"
      ],
      "metadata": {
        "id": "a9vALA_KXC5D"
      },
      "execution_count": 11,
      "outputs": []
    },
    {
      "cell_type": "markdown",
      "source": [
        "Please import the necessary packages here or use `!pip install *package_name*` if they are not already installed."
      ],
      "metadata": {
        "id": "IicR1K3HPuq8"
      }
    },
    {
      "cell_type": "code",
      "source": [],
      "metadata": {
        "id": "Xqxk3fp-Qfr1"
      },
      "execution_count": null,
      "outputs": []
    },
    {
      "cell_type": "markdown",
      "source": [
        "# Base Leader and Example Leader"
      ],
      "metadata": {
        "id": "KBvbZ_HOXLnw"
      }
    },
    {
      "cell_type": "markdown",
      "source": [
        "## Base Leader"
      ],
      "metadata": {
        "id": "gbUkLBfbclfY"
      }
    },
    {
      "cell_type": "markdown",
      "source": [
        "This is the base class for all leader subclasses."
      ],
      "metadata": {
        "id": "QSTzajwQN-ul"
      }
    },
    {
      "cell_type": "code",
      "source": [
        "class Leader:\n",
        "    _subclass_registry = {}\n",
        "\n",
        "    def __init__(self, name, engine):\n",
        "        self.name = name\n",
        "        self.engine = engine\n",
        "\n",
        "    @classmethod\n",
        "    def cleanup_old_subclasses(cls):\n",
        "        \"\"\"\n",
        "        A function to remove old subclasses before defining new ones.\n",
        "        \"\"\"\n",
        "        existing_subclasses = list(cls.__subclasses__())\n",
        "\n",
        "        for subclass in existing_subclasses:\n",
        "            subclass_name = subclass.__name__\n",
        "            if subclass_name in cls._subclass_registry:\n",
        "                del cls._subclass_registry[subclass_name]\n",
        "                del subclass\n",
        "        gc.collect()\n",
        "\n",
        "    @classmethod\n",
        "    def update_subclass_registry(cls):\n",
        "        \"\"\"\n",
        "        A function to update registry after cleaning up old subclasses.\n",
        "        \"\"\"\n",
        "        cls.cleanup_old_subclasses()\n",
        "        cls._subclass_registry = {subclass.__name__: subclass for subclass in cls.__subclasses__()}\n",
        "\n",
        "    def new_price(self, date):\n",
        "        \"\"\"\n",
        "        A function for setting the new price of each day.\n",
        "        :param date: date of the day to be updated\n",
        "        :return: (float) price for the day\n",
        "        \"\"\"\n",
        "        pass\n",
        "\n",
        "    def get_price_from_date(self, date):\n",
        "        \"\"\"\n",
        "        A function for getting the price set on a date.\n",
        "        :param date: (int) date to get the price from\n",
        "        :return: a tuple (leader_price, follower_price)\n",
        "        \"\"\"\n",
        "        return self.engine.exposed_get_price(date)\n",
        "\n",
        "\n",
        "    def start_simulation(self):\n",
        "        \"\"\"\n",
        "        A function runs at the beginning of the simulation.\n",
        "        \"\"\"\n",
        "        pass\n",
        "\n",
        "    def end_simulation(self):\n",
        "        \"\"\"\n",
        "        A function runs at the beginning of the simulation.\n",
        "        \"\"\"\n",
        "        pass"
      ],
      "metadata": {
        "id": "4ywrl6-2P9HQ"
      },
      "execution_count": 13,
      "outputs": []
    },
    {
      "cell_type": "markdown",
      "source": [
        "## Example Leader"
      ],
      "metadata": {
        "id": "f3KUnys4cn-c"
      }
    },
    {
      "cell_type": "markdown",
      "source": [
        "This is a simple example leader subclass."
      ],
      "metadata": {
        "id": "6i9DFkB5OFu0"
      }
    },
    {
      "cell_type": "code",
      "source": [
        "class SimpleLeader(Leader):\n",
        "    def __init__(self, name, engine):\n",
        "        super().__init__(name, engine)\n",
        "\n",
        "    def new_price(self, date: int):\n",
        "        return 1.5 + random.random() * 0.1"
      ],
      "metadata": {
        "id": "nHoNCHFgXXNk"
      },
      "execution_count": 14,
      "outputs": []
    },
    {
      "cell_type": "markdown",
      "source": [
        "<a name=\"your-leader\"></a>\n",
        "# Your Leader"
      ],
      "metadata": {
        "id": "Es5sl3xeY-RC"
      }
    },
    {
      "cell_type": "markdown",
      "source": [
        "Please write your group number below in type int."
      ],
      "metadata": {
        "id": "DOFA97hMPakW"
      }
    },
    {
      "cell_type": "code",
      "source": [
        "group_num = 23\n",
        "assert isinstance(group_num, int), f\"Expected an integer for group_num, but got {type(group_num).__name__}\""
      ],
      "metadata": {
        "id": "DAkMa8owPVHS"
      },
      "execution_count": 17,
      "outputs": []
    },
    {
      "cell_type": "markdown",
      "source": [
        "Please implement your leaders below. Please clearly document:\n",
        "*   Which implementation approach you choose (single leader approach or multiple leaders approach)\n",
        "*   State which leader(s) is designed to play against each follower."
      ],
      "metadata": {
        "id": "cXlrH9XrFaIH"
      }
    },
    {
      "cell_type": "code",
      "source": [],
      "metadata": {
        "id": "t_omEQy_vZZ-"
      },
      "execution_count": null,
      "outputs": []
    },
    {
      "cell_type": "markdown",
      "source": [
        "# Simulation"
      ],
      "metadata": {
        "id": "d8G2tQmAYzCk"
      }
    },
    {
      "cell_type": "markdown",
      "source": [
        "Below is the GUI interface. Please select a leader from the dropdown menu and a follower from the dropdown menu, then click “Connect.” Once the status updates to “Connected to *your_selected_leader* and *your_selected_follower*” click “Start Simulation” to begin. If you wish to save the generated data, click “Export Data.” The dataset will be saved in the “run” folder."
      ],
      "metadata": {
        "id": "VhbFqRH2Q6eh"
      }
    },
    {
      "cell_type": "code",
      "source": [
        "display(Javascript('''google.colab.output.setIframeHeight(0, true, {maxHeight: 5000})'''))\n",
        "engine = Engine()\n",
        "app = GUI(engine, Leader, group_num)"
      ],
      "metadata": {
        "colab": {
          "base_uri": "https://localhost:8080/",
          "height": 1231,
          "referenced_widgets": [
            "ef0e0e0593384a1a8a4aa2ca4e289d9f",
            "c204de7a7677410c9f3391f340115e7f",
            "68325cef0c1d42deaa3b9828d5e923a2",
            "791a898b46f7485480f3307b8c957ba1",
            "44ee3c93d2f74e639471e3f34390e45a",
            "296010b562e343e9ab09edaecfd6dfce",
            "606e7f7e179f43e895aaca1c687cd698",
            "c6b64a3934b84c90aac09d049a3e83b7",
            "c82a7503e2ae4aacb8052a013e743cff",
            "eafd75259332439c974c4f2f53cef6a2",
            "d9eaa961e121498eb7e3508608f4d615",
            "6c37cfb3b54c48a6a66c19b39a40c627",
            "df3a4379c49545ab96566de3113b343b",
            "32f96d1d672b4c908d2a08004eb0f745",
            "9e0facf65a1b461e83b9dc587dc9650a",
            "1e20c4ec5856467faf5cf2faaea7b156",
            "9239ae5e8e4941dfb38470161d7529f8",
            "ca1b3904fafa4a09ad3b73ac6434735c",
            "02355c99ba7641c6a16f7001e72e516e",
            "763b4d679b83406a886eff99fa18fca7",
            "4ddd128d721f40e8ae43d2eb710c7263",
            "d66c7a7dd4914713b87a43271afa7163",
            "e538052d0a9e402e937b513d91c5c03d",
            "2cceddc5fa2444329984fac087f567fb",
            "8abd60d043ed4a0cadf418f711422f70",
            "f399672f94344b32ad61763088bc806c",
            "98b49855e901472698984b597057b19a",
            "b0a6e58d6365444fb25c97f2bc66ab44",
            "d71b9ff7256340fe855c5ea2d5957d9d",
            "b5c7215353a74ee2a5b47f4cd13d28a0",
            "73e70dfbd21b425d8ae26e00b7d89359",
            "560f84cc7a574ec181821d1e621b2b4d",
            "ef5cfe5c46d34649b6495b3e715c90f5",
            "386b0b06c2054282bcc870337f848b04",
            "ac0ae75ae8734ea0be5396632a3655f3",
            "85540eec91a94c25a29a38e82207ff29",
            "7e5f688d39b9404c9e061ddd440fed76",
            "f17f38fb1dc2423b95c8f6065f46d391"
          ]
        },
        "id": "wxAO4hV3DQJg",
        "outputId": "5d8f1e20-2677-4260-cfe4-a13a577933ec"
      },
      "execution_count": 18,
      "outputs": [
        {
          "output_type": "display_data",
          "data": {
            "text/plain": [
              "<IPython.core.display.Javascript object>"
            ],
            "application/javascript": [
              "google.colab.output.setIframeHeight(0, true, {maxHeight: 5000})"
            ]
          },
          "metadata": {}
        },
        {
          "output_type": "display_data",
          "data": {
            "text/plain": [
              "VBox(children=(Dropdown(description='Leader:  ', layout=Layout(width='250px'), options=('SimpleLeader',), styl…"
            ],
            "application/vnd.jupyter.widget-view+json": {
              "version_major": 2,
              "version_minor": 0,
              "model_id": "ef0e0e0593384a1a8a4aa2ca4e289d9f"
            }
          },
          "metadata": {}
        }
      ]
    }
  ]
}